{
 "cells": [
  {
   "cell_type": "code",
   "execution_count": null,
   "id": "60b63b44-9258-4bcd-b97a-c855e48142e2",
   "metadata": {},
   "outputs": [],
   "source": [
    "!pip install kaggle-environments"
   ]
  },
  {
   "cell_type": "code",
   "execution_count": null,
   "id": "25a194fa-72bb-4de6-8f5e-8ca8fc551d03",
   "metadata": {},
   "outputs": [],
   "source": [
    "import random\n",
    "from kaggle_environments import make, evaluate\n",
    "from tqdm import tqdm"
   ]
  },
  {
   "cell_type": "code",
   "execution_count": null,
   "id": "9fb4cfdf-dd0f-444a-94ae-87c2c7e51812",
   "metadata": {},
   "outputs": [],
   "source": [
    "def always_rock(observation, configuration):\n",
    "    return 0\n",
    "def always_scissors(observation, configuration):\n",
    "    return 1\n",
    "def always_paper(observation, configuration):\n",
    "    return 2\n",
    "\n"
   ]
  },
  {
   "cell_type": "code",
   "execution_count": null,
   "id": "a32937e3-23fb-4ca0-ab73-027b0d8fa5e1",
   "metadata": {},
   "outputs": [],
   "source": [
    "def random_agent(observation, configuration):\n",
    "    return random.randint(0, 2)\n"
   ]
  },
  {
   "cell_type": "code",
   "execution_count": null,
   "id": "b75b2cc6-aa56-4ed5-82e5-f79eb0dce9c3",
   "metadata": {},
   "outputs": [],
   "source": [
    "def counter_previous(observation, configuration):\n",
    "    if observation.step == 0:\n",
    "        return random.randint(0, 2)\n",
    "    opponent_last_move = observation.lastOpponentAction\n",
    "    return (opponent_last_move + 1) % 3\n",
    "def win_previous(observation, configuration):\n",
    "    if observation.step == 0:\n",
    "        return random.randint(0, 2)\n",
    "    opponent_last_move = observation.lastOpponentAction\n",
    "    return (opponent_last_move + 2) % 3\n",
    "def lose_previous(observation, configuration):\n",
    "    if observation.step == 0:\n",
    "        return random.randint(0, 2)\n",
    "    opponent_last_move = observation.lastOpponentAction\n",
    "    return (opponent_last_move + 1) % 3\n",
    "def last_mirror(observation, configuration):\n",
    "    if observation.step == 0:\n",
    "        return 0  # Начинаем с камня\n",
    "    return observation.lastOpponentAction\n"
   ]
  },
  {
   "cell_type": "code",
   "execution_count": null,
   "id": "9cfdfdfa-8b27-4646-88c4-db2ea38fd451",
   "metadata": {},
   "outputs": [],
   "source": [
    "import random\n",
    "\n",
    "def weighted_random_agent(observation, configuration):\n",
    "    weights = [0.4, 0.3, 0.3]  # Веса для камня, ножниц и бумаги соответственно\n",
    "    return random.choices([0, 1, 2], weights=weights, k=1)[0]\n",
    "def cyclic_agent(observation, configuration):\n",
    "    return observation.step % 3\n",
    "\n"
   ]
  },
  {
   "cell_type": "code",
   "execution_count": 106,
   "id": "d0953406-f2f2-4ff1-9800-19898f0b89e7",
   "metadata": {},
   "outputs": [
    {
     "name": "stdout",
     "output_type": "stream",
     "text": [
      "Writing counter_most_common_agent.py\n"
     ]
    }
   ],
   "source": [
    "%%writefile counter_most_common_agent.py\n",
    "opponent_moves = []\n",
    "def counter_most_common_agent(observation, configuration):\n",
    "    global opponent_moves\n",
    "    if observation.step == 0:\n",
    "        return 0  # Начинаем с камня\n",
    "    else:\n",
    "        opponent_moves.append(int(observation.lastOpponentAction))\n",
    "    move_counts = [opponent_moves.count(0), opponent_moves.count(1), opponent_moves.count(2)]\n",
    "    most_common_move = move_counts.index(max(move_counts))\n",
    "    return (most_common_move + 1) % 3\n"
   ]
  },
  {
   "cell_type": "code",
   "execution_count": 101,
   "id": "a1b5ab25-1061-4250-88c7-6e310cc97cf2",
   "metadata": {},
   "outputs": [
    {
     "name": "stdout",
     "output_type": "stream",
     "text": [
      "Writing analyze_sequence.py\n"
     ]
    }
   ],
   "source": [
    "%%writefile analyze_sequence.py\n",
    "import random\n",
    "opponent_history = []\n",
    "def analyze_sequence(observation, configuration):\n",
    "    if observation.step == 0:\n",
    "        return random.randint(0, 2)\n",
    "    \n",
    "    global opponent_history\n",
    "    if observation.step > 0:\n",
    "        opponent_history.append(int(observation.lastOpponentAction))\n",
    "    \n",
    "    if len(opponent_history) < 3:\n",
    "        return random.randint(0, 2)\n",
    "    \n",
    "    # Найдем последнюю последовательность ходов противника\n",
    "    last_sequence = tuple(opponent_history[-3:])\n",
    "    \n",
    "    # Создаем словарь для хранения частот следующих ходов\n",
    "    next_move_freq = {0: 0, 1: 0, 2: 0}\n",
    "    \n",
    "    for i in range(len(opponent_history) - 3):\n",
    "        current_sequence = tuple(opponent_history[i:i+3])\n",
    "        if current_sequence == last_sequence:\n",
    "            next_move = opponent_history[i+3]\n",
    "            next_move_freq[next_move] += 1\n",
    "    \n",
    "    # Выбираем наиболее частый следующий ход\n",
    "    most_frequent_move = max(next_move_freq, key=next_move_freq.get)\n",
    "    \n",
    "    # Возвращаем ход, который победит наиболее частый следующий ход\n",
    "    return (most_frequent_move + 1) % 3\n"
   ]
  },
  {
   "cell_type": "code",
   "execution_count": 100,
   "id": "5c5cfa48-93e1-459b-974e-ffc6c52c4516",
   "metadata": {},
   "outputs": [
    {
     "name": "stdout",
     "output_type": "stream",
     "text": [
      "Overwriting probabilistic_predictor.py\n"
     ]
    }
   ],
   "source": [
    "%%writefile probabilistic_predictor.py\n",
    "import random\n",
    "\n",
    "opponent_history = []\n",
    "\n",
    "def probabilistic_predictor(observation, configuration):\n",
    "    global opponent_history\n",
    "    if observation.step == 0:\n",
    "        return random.randint(0, 2)\n",
    "    else:\n",
    "        opponent_history.append(int(observation.lastOpponentAction))\n",
    "    # Подсчитываем частоту каждого хода противника\n",
    "    move_counts = [0, 0, 0]\n",
    "    for move in opponent_history:\n",
    "        move_counts[move] += 1\n",
    "    \n",
    "    # Вычисляем вероятности каждого хода\n",
    "    total_moves = sum(move_counts)\n",
    "    probabilities = [count / total_moves for count in move_counts]\n",
    "    \n",
    "    # Выбираем ход, который победит наиболее вероятный ход противника\n",
    "    most_probable_move = probabilities.index(max(probabilities))\n",
    "    return (most_probable_move + 1) % 3\n"
   ]
  },
  {
   "cell_type": "code",
   "execution_count": 123,
   "id": "053cfc0f-1706-42b5-a86e-b195a7b77faa",
   "metadata": {},
   "outputs": [
    {
     "name": "stderr",
     "output_type": "stream",
     "text": [
      "100%|███████████████████████████████████████████████████████████████████████████████████████████████████████████████████████████████████████████████████████████████| 13/13 [34:27<00:00, 159.00s/it]\n"
     ]
    }
   ],
   "source": [
    "agents = [\n",
    "    always_rock,\n",
    "    always_scissors,\n",
    "    always_paper,\n",
    "    random_agent,\n",
    "    counter_previous,\n",
    "    win_previous,\n",
    "    lose_previous,\n",
    "    last_mirror,\n",
    "    weighted_random_agent,\n",
    "    cyclic_agent,\n",
    "    'analyze_sequence.py',\n",
    "    'counter_most_common_agent.py',\n",
    "    'probabilistic_predictor.py'\n",
    "]\n",
    "agents_names = [   'always_rock',\n",
    "    'always_scissors',\n",
    "    'always_paper',\n",
    "    'random_agent',\n",
    "    'counter_previous',\n",
    "    'win_previous',\n",
    "    'lose_previous',\n",
    "    'last_mirror',\n",
    "    'weighted_random_agent',\n",
    "    'cyclic_agent',\n",
    "    'analyze_sequence.py',\n",
    "    'counter_most_common_agent.py',\n",
    "    'probabilistic_predictor.py']\n",
    "\n",
    "# Функция для проведения турнира\n",
    "def tournament(agents, num_games=10):\n",
    "    results = {agent: 0 for agent in agents_names}\n",
    "    for i in tqdm(range(len(agents))):\n",
    "        for j in range(i + 1, len(agents)):\n",
    "            agent1 = agents[i]\n",
    "            agent2 = agents[j]\n",
    "            scores = evaluate(\"rps\", [agent1, agent2], num_episodes=num_games)\n",
    "            results[agents_names[i]] += sum([score[0] for score in scores])\n",
    "            results[agents_names[j]] += sum([score[1] for score in scores])\n",
    "    return results\n",
    "\n",
    "# Запускаем турнир\n",
    "results = tournament(agents)\n"
   ]
  },
  {
   "cell_type": "code",
   "execution_count": 124,
   "id": "dc92f6a4-36ac-4010-a946-fed967b0f287",
   "metadata": {},
   "outputs": [
    {
     "name": "stdout",
     "output_type": "stream",
     "text": [
      "always_rock -40028.0\n",
      "always_scissors -39015.0\n",
      "always_paper -40803.0\n",
      "random_agent 518.0\n",
      "counter_previous 27131.0\n",
      "win_previous -39769.0\n",
      "lose_previous 29743.0\n",
      "last_mirror -17435.0\n",
      "weighted_random_agent -2769.0\n",
      "cyclic_agent -10091.0\n",
      "analyze_sequence.py 82640.0\n",
      "counter_most_common_agent.py 28311.0\n",
      "probabilistic_predictor.py 21567.0\n"
     ]
    }
   ],
   "source": [
    "for k,v in zip(results.keys(),results.values()) :\n",
    "    print(k, v)"
   ]
  },
  {
   "cell_type": "code",
   "execution_count": null,
   "id": "1f3d6c5c-3e94-4ff1-898f-b2f58286df7c",
   "metadata": {},
   "outputs": [],
   "source": []
  },
  {
   "cell_type": "code",
   "execution_count": null,
   "id": "c2acc367-ce2b-4db8-8f0e-7a0117abd874",
   "metadata": {},
   "outputs": [],
   "source": []
  },
  {
   "cell_type": "code",
   "execution_count": null,
   "id": "1b065b75-bb06-4c5b-8daa-be5912130ed3",
   "metadata": {},
   "outputs": [],
   "source": []
  },
  {
   "cell_type": "code",
   "execution_count": null,
   "id": "a731c4d3-054f-4877-bd94-30aff6eac41a",
   "metadata": {},
   "outputs": [],
   "source": []
  },
  {
   "cell_type": "code",
   "execution_count": null,
   "id": "785a2c73-b87b-4a37-9673-edd0413ec6e2",
   "metadata": {},
   "outputs": [],
   "source": []
  },
  {
   "cell_type": "code",
   "execution_count": null,
   "id": "2f46bc3d-65ff-4ccf-a87b-2ebe2a758326",
   "metadata": {},
   "outputs": [],
   "source": []
  },
  {
   "cell_type": "code",
   "execution_count": null,
   "id": "f2e843b8-c1e6-4b7d-9f0d-40c31a01fb9a",
   "metadata": {},
   "outputs": [],
   "source": []
  }
 ],
 "metadata": {
  "kernelspec": {
   "display_name": "Python 3 (ipykernel)",
   "language": "python",
   "name": "python3"
  },
  "language_info": {
   "codemirror_mode": {
    "name": "ipython",
    "version": 3
   },
   "file_extension": ".py",
   "mimetype": "text/x-python",
   "name": "python",
   "nbconvert_exporter": "python",
   "pygments_lexer": "ipython3",
   "version": "3.10.15"
  }
 },
 "nbformat": 4,
 "nbformat_minor": 5
}
